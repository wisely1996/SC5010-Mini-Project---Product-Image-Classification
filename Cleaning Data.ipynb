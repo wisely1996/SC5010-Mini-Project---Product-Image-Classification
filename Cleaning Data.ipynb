{
 "cells": [
  {
   "cell_type": "code",
   "execution_count": 2,
   "metadata": {},
   "outputs": [],
   "source": [
    "import keras\n",
    "import pandas as pd\n",
    "import numpy as np \n",
    "import itertools\n",
    "\n",
    "from sklearn import metrics\n",
    "from sklearn.metrics import confusion_matrix\n",
    "from sklearn.model_selection import StratifiedKFold\n",
    "from keras.preprocessing.image import ImageDataGenerator, img_to_array, load_img \n",
    "from keras.models import Sequential \n",
    "from keras import optimizers\n",
    "from keras.preprocessing import image\n",
    "from keras.layers import Dropout, Flatten, Dense \n",
    "from keras import applications \n",
    "from keras.utils.np_utils import to_categorical \n",
    "import matplotlib.pyplot as plt \n",
    "import matplotlib.image as mpimg\n",
    "%matplotlib inline\n",
    "import math \n",
    "import datetime\n",
    "import time\n",
    "import tensorflow as tf"
   ]
  },
  {
   "cell_type": "code",
   "execution_count": 4,
   "metadata": {},
   "outputs": [
    {
     "name": "stderr",
     "output_type": "stream",
     "text": [
      "C:\\Users\\User\\AppData\\Local\\Temp\\ipykernel_14628\\3930989819.py:5: SettingWithCopyWarning: \n",
      "A value is trying to be set on a copy of a slice from a DataFrame.\n",
      "Try using .loc[row_indexer,col_indexer] = value instead\n",
      "\n",
      "See the caveats in the documentation: https://pandas.pydata.org/pandas-docs/stable/user_guide/indexing.html#returning-a-view-versus-a-copy\n",
      "  df_top.loc[:,\"class\"] = 0\n",
      "C:\\Users\\User\\AppData\\Local\\Temp\\ipykernel_14628\\3930989819.py:7: SettingWithCopyWarning: \n",
      "A value is trying to be set on a copy of a slice from a DataFrame.\n",
      "Try using .loc[row_indexer,col_indexer] = value instead\n",
      "\n",
      "See the caveats in the documentation: https://pandas.pydata.org/pandas-docs/stable/user_guide/indexing.html#returning-a-view-versus-a-copy\n",
      "  df_btm.loc[:,\"class\"] = 1\n"
     ]
    },
    {
     "data": {
      "text/html": [
       "<div>\n",
       "<style scoped>\n",
       "    .dataframe tbody tr th:only-of-type {\n",
       "        vertical-align: middle;\n",
       "    }\n",
       "\n",
       "    .dataframe tbody tr th {\n",
       "        vertical-align: top;\n",
       "    }\n",
       "\n",
       "    .dataframe thead th {\n",
       "        text-align: right;\n",
       "    }\n",
       "</style>\n",
       "<table border=\"1\" class=\"dataframe\">\n",
       "  <thead>\n",
       "    <tr style=\"text-align: right;\">\n",
       "      <th></th>\n",
       "      <th>filename</th>\n",
       "      <th>category</th>\n",
       "    </tr>\n",
       "  </thead>\n",
       "  <tbody>\n",
       "    <tr>\n",
       "      <th>9817</th>\n",
       "      <td>6ed9c2a655d6f84badb557bc210c1fb5.jpg</td>\n",
       "      <td>29</td>\n",
       "    </tr>\n",
       "    <tr>\n",
       "      <th>234</th>\n",
       "      <td>293c5038f681f017254800819a968212.jpg</td>\n",
       "      <td>3</td>\n",
       "    </tr>\n",
       "    <tr>\n",
       "      <th>8238</th>\n",
       "      <td>90e1e6fbaa0c9a69ad0ee70bc2ea251d.jpg</td>\n",
       "      <td>29</td>\n",
       "    </tr>\n",
       "    <tr>\n",
       "      <th>2708</th>\n",
       "      <td>42ea56b9983ba2bf7e01acf5dda172f5.jpg</td>\n",
       "      <td>28</td>\n",
       "    </tr>\n",
       "    <tr>\n",
       "      <th>7671</th>\n",
       "      <td>f13b80836fbe7c635a9817e121093594.jpg</td>\n",
       "      <td>4</td>\n",
       "    </tr>\n",
       "    <tr>\n",
       "      <th>...</th>\n",
       "      <td>...</td>\n",
       "      <td>...</td>\n",
       "    </tr>\n",
       "    <tr>\n",
       "      <th>9880</th>\n",
       "      <td>b61f5b0aec4375090b5a268a1f516ead.jpg</td>\n",
       "      <td>29</td>\n",
       "    </tr>\n",
       "    <tr>\n",
       "      <th>2601</th>\n",
       "      <td>5072c6fb5ab3ae57524639805321a0f4.jpg</td>\n",
       "      <td>3</td>\n",
       "    </tr>\n",
       "    <tr>\n",
       "      <th>2018</th>\n",
       "      <td>b2afaca110148bc0710f828c9d53b39f.jpg</td>\n",
       "      <td>3</td>\n",
       "    </tr>\n",
       "    <tr>\n",
       "      <th>6834</th>\n",
       "      <td>3511390df751f1c8c70ca9c6897ddfc5.jpg</td>\n",
       "      <td>4</td>\n",
       "    </tr>\n",
       "    <tr>\n",
       "      <th>9306</th>\n",
       "      <td>026f054380bff76064f26bcb2628ff40.jpg</td>\n",
       "      <td>29</td>\n",
       "    </tr>\n",
       "  </tbody>\n",
       "</table>\n",
       "<p>9094 rows × 2 columns</p>\n",
       "</div>"
      ],
      "text/plain": [
       "                                  filename  category\n",
       "9817  6ed9c2a655d6f84badb557bc210c1fb5.jpg        29\n",
       "234   293c5038f681f017254800819a968212.jpg         3\n",
       "8238  90e1e6fbaa0c9a69ad0ee70bc2ea251d.jpg        29\n",
       "2708  42ea56b9983ba2bf7e01acf5dda172f5.jpg        28\n",
       "7671  f13b80836fbe7c635a9817e121093594.jpg         4\n",
       "...                                    ...       ...\n",
       "9880  b61f5b0aec4375090b5a268a1f516ead.jpg        29\n",
       "2601  5072c6fb5ab3ae57524639805321a0f4.jpg         3\n",
       "2018  b2afaca110148bc0710f828c9d53b39f.jpg         3\n",
       "6834  3511390df751f1c8c70ca9c6897ddfc5.jpg         4\n",
       "9306  026f054380bff76064f26bcb2628ff40.jpg        29\n",
       "\n",
       "[9094 rows x 2 columns]"
      ]
     },
     "execution_count": 4,
     "metadata": {},
     "output_type": "execute_result"
    }
   ],
   "source": [
    "from sklearn.model_selection import train_test_split\n",
    "\n",
    "df = pd.read_csv(\"train.csv\")\n",
    "df_top = df[(df[\"category\"] == 3)|(df[\"category\"] == 28)]\n",
    "df_top.loc[:,\"class\"] = 0\n",
    "df_btm = df[(df[\"category\"] == 4)|(df[\"category\"] == 29)]\n",
    "df_btm.loc[:,\"class\"] = 1\n",
    "\n",
    "df_cloth = pd.concat([df_top,df_btm]).reset_index(drop = True)\n",
    "df_cloth\n",
    "\n",
    "X = df_cloth[[\"filename\",\"category\"]]\n",
    "y = pd.DataFrame(df_cloth[\"class\"])\n",
    "X_train, X_test, y_train, y_test = train_test_split(X, y, test_size = 0.1, random_state = 5010)\n",
    "\n",
    "X_train"
   ]
  },
  {
   "cell_type": "code",
   "execution_count": 71,
   "metadata": {},
   "outputs": [
    {
     "data": {
      "text/plain": [
       "((7275, 2), (1819, 2), (7275, 1), (1819, 1))"
      ]
     },
     "execution_count": 71,
     "metadata": {},
     "output_type": "execute_result"
    }
   ],
   "source": [
    "X1 = X_train[[\"filename\",\"category\"]]\n",
    "y1 = pd.DataFrame(y_train[\"class\"])\n",
    "\n",
    "X1_train, X1_test, y1_train, y1_test = train_test_split(X1, y1, test_size = 0.2, random_state = 5010)\n",
    "X1_train.shape, X1_test.shape, y1_train.shape, y1_test.shape"
   ]
  },
  {
   "cell_type": "code",
   "execution_count": 79,
   "metadata": {},
   "outputs": [],
   "source": [
    "import shutil\n",
    "\n",
    "X1_train.reset_index(inplace = True, drop = True)\n",
    "X1_test.reset_index(inplace = True, drop = True)\n",
    "\n",
    "for i in range(len(X1_train)):\n",
    "  filename = str(X1_train[\"filename\"][i])\n",
    "  category = str(X1_train[\"category\"][i])\n",
    "\n",
    "  if category == '3' or category == '28':\n",
    "    if len(category) == 1:\n",
    "      shutil.copyfile(f\"train/0{category}/{filename}\", f\"train_dataset/top/{filename}\")\n",
    "    else:\n",
    "      shutil.copyfile(f\"train/{category}/{filename}\", f\"train_dataset/top/{filename}\")\n",
    "  else:\n",
    "    if len(category) == 1:\n",
    "      shutil.copyfile(f\"train/0{category}/{filename}\", f\"train_dataset/btm/{filename}\")\n",
    "    else:\n",
    "      shutil.copyfile(f\"train/{category}/{filename}\", f\"train_dataset/btm/{filename}\")"
   ]
  },
  {
   "cell_type": "code",
   "execution_count": 80,
   "metadata": {},
   "outputs": [],
   "source": [
    "for i in range(len(X1_test)):\n",
    "  filename = str(X1_test[\"filename\"][i])\n",
    "  category = str(X1_test[\"category\"][i])\n",
    "\n",
    "  if category == '3' or category == '28':\n",
    "    if len(category) == 1:\n",
    "      shutil.copyfile(f\"train/0{category}/{filename}\", f\"validation_dataset/top/{filename}\")\n",
    "    else:\n",
    "      shutil.copyfile(f\"train/{category}/{filename}\", f\"validation_dataset/top/{filename}\")\n",
    "  else:\n",
    "    if len(category) == 1:\n",
    "      shutil.copyfile(f\"train/0{category}/{filename}\", f\"validation_dataset/btm/{filename}\")\n",
    "    else:\n",
    "      shutil.copyfile(f\"train/{category}/{filename}\", f\"validation_dataset/btm/{filename}\")"
   ]
  },
  {
   "cell_type": "code",
   "execution_count": 81,
   "metadata": {},
   "outputs": [],
   "source": [
    "X_test.reset_index(inplace = True, drop = True)\n",
    "\n",
    "for i in range(len(X_test)):\n",
    "  filename = str(X_test[\"filename\"][i])\n",
    "  category = str(X_test[\"category\"][i])\n",
    "\n",
    "  if category == '3' or category == '28':\n",
    "    if len(category) == 1:\n",
    "      shutil.copyfile(f\"train/0{category}/{filename}\", f\"test_dataset/top/{filename}\")\n",
    "    else:\n",
    "      shutil.copyfile(f\"train/{category}/{filename}\", f\"test_dataset/top/{filename}\")\n",
    "  else:\n",
    "    if len(category) == 1:\n",
    "      shutil.copyfile(f\"train/0{category}/{filename}\", f\"test_dataset/btm/{filename}\")\n",
    "    else:\n",
    "      shutil.copyfile(f\"train/{category}/{filename}\", f\"test_dataset/btm/{filename}\")"
   ]
  },
  {
   "cell_type": "code",
   "execution_count": 12,
   "metadata": {},
   "outputs": [
    {
     "data": {
      "text/plain": [
       "(3803, 3472, 957, 862)"
      ]
     },
     "execution_count": 12,
     "metadata": {},
     "output_type": "execute_result"
    }
   ],
   "source": [
    "import os\n",
    "\n",
    "train_path1 = \"train_dataset\"\n",
    "validation_path1 = \"validation_dataset\"\n",
    "\n",
    "len(os.listdir(train_path1 + '/top')), len(os.listdir(train_path1 + '/btm')), len(os.listdir(validation_path1 + '/top')), len(os.listdir(validation_path1 + '/btm'))"
   ]
  }
 ],
 "metadata": {
  "interpreter": {
   "hash": "aecd030d4c8316a52bf122072e28f84bcc79844c2684e041fef2e3f1d9f59078"
  },
  "kernelspec": {
   "display_name": "Python 3.10.3 64-bit",
   "language": "python",
   "name": "python3"
  },
  "language_info": {
   "codemirror_mode": {
    "name": "ipython",
    "version": 3
   },
   "file_extension": ".py",
   "mimetype": "text/x-python",
   "name": "python",
   "nbconvert_exporter": "python",
   "pygments_lexer": "ipython3",
   "version": "3.10.3"
  },
  "orig_nbformat": 4
 },
 "nbformat": 4,
 "nbformat_minor": 2
}
