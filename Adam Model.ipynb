{
 "cells": [
  {
   "cell_type": "code",
   "execution_count": 1,
   "metadata": {},
   "outputs": [
    {
     "name": "stderr",
     "output_type": "stream",
     "text": [
      "C:\\Users\\cfung\\AppData\\Local\\Programs\\Python\\Python310\\lib\\site-packages\\numpy\\_distributor_init.py:30: UserWarning: loaded more than 1 DLL from .libs:\n",
      "C:\\Users\\cfung\\AppData\\Local\\Programs\\Python\\Python310\\lib\\site-packages\\numpy\\.libs\\libopenblas.EL2C6PLE4ZYW3ECEVIV3OXXGRN2NRFM2.gfortran-win_amd64.dll\n",
      "C:\\Users\\cfung\\AppData\\Local\\Programs\\Python\\Python310\\lib\\site-packages\\numpy\\.libs\\libopenblas.XWYDX2IKJW2NMTWSFYNGFUWKQU3LYTCZ.gfortran-win_amd64.dll\n",
      "  warnings.warn(\"loaded more than 1 DLL from .libs:\"\n"
     ]
    }
   ],
   "source": [
    "import keras\n",
    "import pandas as pd\n",
    "import numpy as np \n",
    "import itertools\n",
    "\n",
    "from sklearn import metrics\n",
    "from sklearn.metrics import confusion_matrix\n",
    "from keras.preprocessing.image import ImageDataGenerator, img_to_array, load_img \n",
    "from keras.models import Sequential \n",
    "from keras import optimizers\n",
    "from keras.preprocessing import image\n",
    "from keras.layers import Dropout, Flatten, Dense \n",
    "from keras import applications \n",
    "from keras.utils.np_utils import to_categorical \n",
    "import matplotlib.pyplot as plt \n",
    "import matplotlib.image as mpimg\n",
    "%matplotlib inline\n",
    "import math \n",
    "import datetime\n",
    "import time\n",
    "import tensorflow as tf"
   ]
  },
  {
   "cell_type": "code",
   "execution_count": 2,
   "metadata": {},
   "outputs": [
    {
     "name": "stderr",
     "output_type": "stream",
     "text": [
      "C:\\Users\\cfung\\AppData\\Local\\Programs\\Python\\Python310\\lib\\site-packages\\pandas\\core\\indexing.py:1667: SettingWithCopyWarning: \n",
      "A value is trying to be set on a copy of a slice from a DataFrame.\n",
      "Try using .loc[row_indexer,col_indexer] = value instead\n",
      "\n",
      "See the caveats in the documentation: https://pandas.pydata.org/pandas-docs/stable/user_guide/indexing.html#returning-a-view-versus-a-copy\n",
      "  self.obj[key] = value\n"
     ]
    },
    {
     "data": {
      "text/html": [
       "<div>\n",
       "<style scoped>\n",
       "    .dataframe tbody tr th:only-of-type {\n",
       "        vertical-align: middle;\n",
       "    }\n",
       "\n",
       "    .dataframe tbody tr th {\n",
       "        vertical-align: top;\n",
       "    }\n",
       "\n",
       "    .dataframe thead th {\n",
       "        text-align: right;\n",
       "    }\n",
       "</style>\n",
       "<table border=\"1\" class=\"dataframe\">\n",
       "  <thead>\n",
       "    <tr style=\"text-align: right;\">\n",
       "      <th></th>\n",
       "      <th>filename</th>\n",
       "      <th>category</th>\n",
       "    </tr>\n",
       "  </thead>\n",
       "  <tbody>\n",
       "    <tr>\n",
       "      <th>9817</th>\n",
       "      <td>6ed9c2a655d6f84badb557bc210c1fb5.jpg</td>\n",
       "      <td>29</td>\n",
       "    </tr>\n",
       "    <tr>\n",
       "      <th>234</th>\n",
       "      <td>293c5038f681f017254800819a968212.jpg</td>\n",
       "      <td>3</td>\n",
       "    </tr>\n",
       "    <tr>\n",
       "      <th>8238</th>\n",
       "      <td>90e1e6fbaa0c9a69ad0ee70bc2ea251d.jpg</td>\n",
       "      <td>29</td>\n",
       "    </tr>\n",
       "    <tr>\n",
       "      <th>2708</th>\n",
       "      <td>42ea56b9983ba2bf7e01acf5dda172f5.jpg</td>\n",
       "      <td>28</td>\n",
       "    </tr>\n",
       "    <tr>\n",
       "      <th>7671</th>\n",
       "      <td>f13b80836fbe7c635a9817e121093594.jpg</td>\n",
       "      <td>4</td>\n",
       "    </tr>\n",
       "    <tr>\n",
       "      <th>...</th>\n",
       "      <td>...</td>\n",
       "      <td>...</td>\n",
       "    </tr>\n",
       "    <tr>\n",
       "      <th>9880</th>\n",
       "      <td>b61f5b0aec4375090b5a268a1f516ead.jpg</td>\n",
       "      <td>29</td>\n",
       "    </tr>\n",
       "    <tr>\n",
       "      <th>2601</th>\n",
       "      <td>5072c6fb5ab3ae57524639805321a0f4.jpg</td>\n",
       "      <td>3</td>\n",
       "    </tr>\n",
       "    <tr>\n",
       "      <th>2018</th>\n",
       "      <td>b2afaca110148bc0710f828c9d53b39f.jpg</td>\n",
       "      <td>3</td>\n",
       "    </tr>\n",
       "    <tr>\n",
       "      <th>6834</th>\n",
       "      <td>3511390df751f1c8c70ca9c6897ddfc5.jpg</td>\n",
       "      <td>4</td>\n",
       "    </tr>\n",
       "    <tr>\n",
       "      <th>9306</th>\n",
       "      <td>026f054380bff76064f26bcb2628ff40.jpg</td>\n",
       "      <td>29</td>\n",
       "    </tr>\n",
       "  </tbody>\n",
       "</table>\n",
       "<p>9094 rows × 2 columns</p>\n",
       "</div>"
      ],
      "text/plain": [
       "                                  filename  category\n",
       "9817  6ed9c2a655d6f84badb557bc210c1fb5.jpg        29\n",
       "234   293c5038f681f017254800819a968212.jpg         3\n",
       "8238  90e1e6fbaa0c9a69ad0ee70bc2ea251d.jpg        29\n",
       "2708  42ea56b9983ba2bf7e01acf5dda172f5.jpg        28\n",
       "7671  f13b80836fbe7c635a9817e121093594.jpg         4\n",
       "...                                    ...       ...\n",
       "9880  b61f5b0aec4375090b5a268a1f516ead.jpg        29\n",
       "2601  5072c6fb5ab3ae57524639805321a0f4.jpg         3\n",
       "2018  b2afaca110148bc0710f828c9d53b39f.jpg         3\n",
       "6834  3511390df751f1c8c70ca9c6897ddfc5.jpg         4\n",
       "9306  026f054380bff76064f26bcb2628ff40.jpg        29\n",
       "\n",
       "[9094 rows x 2 columns]"
      ]
     },
     "execution_count": 2,
     "metadata": {},
     "output_type": "execute_result"
    }
   ],
   "source": [
    "from sklearn.model_selection import train_test_split\n",
    "\n",
    "df = pd.read_csv(\"train.csv\")\n",
    "df_top = df[(df[\"category\"] == 3)|(df[\"category\"] == 28)]\n",
    "df_top.loc[:,\"class\"] = 0\n",
    "df_btm = df[(df[\"category\"] == 4)|(df[\"category\"] == 29)]\n",
    "df_btm.loc[:,\"class\"] = 1\n",
    "\n",
    "df_cloth = pd.concat([df_top,df_btm]).reset_index(drop = True)\n",
    "df_cloth\n",
    "\n",
    "X = df_cloth[[\"filename\",\"category\"]]\n",
    "y = pd.DataFrame(df_cloth[\"class\"])\n",
    "X_train, X_test, y_train, y_test = train_test_split(X, y, test_size = 0.1, random_state = 5010)\n",
    "\n",
    "X_train"
   ]
  },
  {
   "cell_type": "code",
   "execution_count": 3,
   "metadata": {},
   "outputs": [
    {
     "data": {
      "text/plain": [
       "((7275, 2), (1819, 2), (7275, 1), (1819, 1))"
      ]
     },
     "execution_count": 3,
     "metadata": {},
     "output_type": "execute_result"
    }
   ],
   "source": [
    "X1 = X_train[[\"filename\",\"category\"]]\n",
    "y1 = pd.DataFrame(y_train[\"class\"])\n",
    "\n",
    "X1_train, X1_test, y1_train, y1_test = train_test_split(X1, y1, test_size = 0.2, random_state = 5010)\n",
    "X1_train.shape, X1_test.shape, y1_train.shape, y1_test.shape"
   ]
  },
  {
   "cell_type": "code",
   "execution_count": 4,
   "metadata": {},
   "outputs": [
    {
     "data": {
      "text/plain": [
       "(3803, 3472, 957, 862)"
      ]
     },
     "execution_count": 4,
     "metadata": {},
     "output_type": "execute_result"
    }
   ],
   "source": [
    "import os\n",
    "\n",
    "train_path1 = \"train_dataset\"\n",
    "validation_path1 = \"validation_dataset\"\n",
    "\n",
    "len(os.listdir(train_path1 + '/top')), len(os.listdir(train_path1 + '/btm')), len(os.listdir(validation_path1 + '/top')), len(os.listdir(validation_path1 + '/btm'))"
   ]
  },
  {
   "cell_type": "code",
   "execution_count": 5,
   "metadata": {},
   "outputs": [
    {
     "name": "stdout",
     "output_type": "stream",
     "text": [
      "Found 7275 images belonging to 2 classes.\n",
      "Found 1819 images belonging to 2 classes.\n"
     ]
    }
   ],
   "source": [
    "IMG_SIZE = (299, 299)\n",
    "shift = 0.2\n",
    "\n",
    "training_datagen1 = ImageDataGenerator(\n",
    "      rescale = 1./255,\n",
    "      rotation_range=5,\n",
    "      brightness_range=[0.2,1.5],\n",
    "      width_shift_range=shift, \n",
    "      height_shift_range=shift,\n",
    "      horizontal_flip=True)\n",
    "train_set1 = training_datagen1.flow_from_directory(\n",
    "     train_path1,\n",
    "     seed=9,\n",
    "\t   target_size=IMG_SIZE,\n",
    "     class_mode = \"categorical\")\n",
    "validation_datagen1 = ImageDataGenerator(\n",
    "      rescale = 1./255)\n",
    "val_set1 = validation_datagen1.flow_from_directory(\n",
    "\t  validation_path1,\n",
    "\t  target_size=IMG_SIZE,\n",
    "    shuffle=False,\n",
    "    seed=9,\n",
    "    class_mode = \"categorical\") "
   ]
  },
  {
   "cell_type": "code",
   "execution_count": 84,
   "metadata": {},
   "outputs": [
    {
     "name": "stdout",
     "output_type": "stream",
     "text": [
      "Model: \"sequential_4\"\n",
      "_________________________________________________________________\n",
      " Layer (type)                Output Shape              Param #   \n",
      "=================================================================\n",
      " conv2d_16 (Conv2D)          (None, 297, 297, 32)      896       \n",
      "                                                                 \n",
      " max_pooling2d_16 (MaxPoolin  (None, 148, 148, 32)     0         \n",
      " g2D)                                                            \n",
      "                                                                 \n",
      " conv2d_17 (Conv2D)          (None, 144, 144, 64)      51264     \n",
      "                                                                 \n",
      " max_pooling2d_17 (MaxPoolin  (None, 72, 72, 64)       0         \n",
      " g2D)                                                            \n",
      "                                                                 \n",
      " conv2d_18 (Conv2D)          (None, 68, 68, 128)       204928    \n",
      "                                                                 \n",
      " max_pooling2d_18 (MaxPoolin  (None, 34, 34, 128)      0         \n",
      " g2D)                                                            \n",
      "                                                                 \n",
      " conv2d_19 (Conv2D)          (None, 32, 32, 128)       147584    \n",
      "                                                                 \n",
      " max_pooling2d_19 (MaxPoolin  (None, 16, 16, 128)      0         \n",
      " g2D)                                                            \n",
      "                                                                 \n",
      " flatten_4 (Flatten)         (None, 32768)             0         \n",
      "                                                                 \n",
      " dropout_4 (Dropout)         (None, 32768)             0         \n",
      "                                                                 \n",
      " dense_12 (Dense)            (None, 512)               16777728  \n",
      "                                                                 \n",
      " dense_13 (Dense)            (None, 256)               131328    \n",
      "                                                                 \n",
      " dense_14 (Dense)            (None, 2)                 514       \n",
      "                                                                 \n",
      "=================================================================\n",
      "Total params: 17,314,242\n",
      "Trainable params: 17,314,242\n",
      "Non-trainable params: 0\n",
      "_________________________________________________________________\n"
     ]
    }
   ],
   "source": [
    "EPOCHS = 50\n",
    "INIT_LR = 1e-4\n",
    "# Model 6 new data\n",
    "\n",
    "model = tf.keras.models.Sequential([\n",
    "    tf.keras.layers.Conv2D(32, (3,3), activation='relu', input_shape=IMG_SIZE+(3,)),\n",
    "    tf.keras.layers.MaxPooling2D(2, 2), \n",
    "    tf.keras.layers.Conv2D(64, (5,5), activation='relu'), \n",
    "    tf.keras.layers.MaxPooling2D(2,2),\n",
    "    tf.keras.layers.Conv2D(128, (5,5), activation='relu'),\n",
    "    tf.keras.layers.MaxPooling2D(2,2),\n",
    "    tf.keras.layers.Conv2D(128, (3,3), activation='relu'),\n",
    "    tf.keras.layers.MaxPooling2D(2,2),\n",
    "    tf.keras.layers.Flatten(),\n",
    "    tf.keras.layers.Dropout(0.2),\n",
    "    tf.keras.layers.Dense(512, activation='relu'),\n",
    "    tf.keras.layers.Dense(256, activation='relu'),\n",
    "    tf.keras.layers.Dense(2, activation='softmax') \n",
    "])\n",
    "\n",
    "model.summary()\n"
   ]
  },
  {
   "cell_type": "code",
   "execution_count": 85,
   "metadata": {},
   "outputs": [
    {
     "name": "stdout",
     "output_type": "stream",
     "text": [
      "Epoch 1/20\n",
      "228/228 [==============================] - 541s 2s/step - loss: 0.5969 - accuracy: 0.6821 - val_loss: 0.4973 - val_accuracy: 0.7642\n",
      "Epoch 2/20\n",
      "228/228 [==============================] - 533s 2s/step - loss: 0.4889 - accuracy: 0.7744 - val_loss: 0.4006 - val_accuracy: 0.8153\n",
      "Epoch 3/20\n",
      "228/228 [==============================] - 515s 2s/step - loss: 0.4271 - accuracy: 0.8115 - val_loss: 0.3496 - val_accuracy: 0.8499\n",
      "Epoch 4/20\n",
      "228/228 [==============================] - 524s 2s/step - loss: 0.4036 - accuracy: 0.8219 - val_loss: 0.3431 - val_accuracy: 0.8626\n",
      "Epoch 5/20\n",
      "228/228 [==============================] - 524s 2s/step - loss: 0.3784 - accuracy: 0.8371 - val_loss: 0.3233 - val_accuracy: 0.8593\n",
      "Epoch 6/20\n",
      "228/228 [==============================] - 540s 2s/step - loss: 0.3694 - accuracy: 0.8410 - val_loss: 0.3774 - val_accuracy: 0.8356\n",
      "Epoch 7/20\n",
      "228/228 [==============================] - 531s 2s/step - loss: 0.3582 - accuracy: 0.8462 - val_loss: 0.3003 - val_accuracy: 0.8741\n",
      "Epoch 8/20\n",
      "228/228 [==============================] - 508s 2s/step - loss: 0.3379 - accuracy: 0.8613 - val_loss: 0.2938 - val_accuracy: 0.8796\n",
      "Epoch 9/20\n",
      "228/228 [==============================] - 516s 2s/step - loss: 0.3289 - accuracy: 0.8621 - val_loss: 0.2819 - val_accuracy: 0.8813\n",
      "Epoch 10/20\n",
      "228/228 [==============================] - 511s 2s/step - loss: 0.3166 - accuracy: 0.8671 - val_loss: 0.2803 - val_accuracy: 0.8879\n",
      "Epoch 11/20\n",
      "228/228 [==============================] - 504s 2s/step - loss: 0.3121 - accuracy: 0.8715 - val_loss: 0.2717 - val_accuracy: 0.8851\n",
      "Epoch 12/20\n",
      "228/228 [==============================] - 507s 2s/step - loss: 0.3057 - accuracy: 0.8711 - val_loss: 0.2822 - val_accuracy: 0.8829\n",
      "Epoch 13/20\n",
      "228/228 [==============================] - 506s 2s/step - loss: 0.3046 - accuracy: 0.8726 - val_loss: 0.2702 - val_accuracy: 0.8944\n",
      "Epoch 14/20\n",
      "228/228 [==============================] - 498s 2s/step - loss: 0.2889 - accuracy: 0.8803 - val_loss: 0.3104 - val_accuracy: 0.8730\n",
      "Epoch 15/20\n",
      "228/228 [==============================] - 496s 2s/step - loss: 0.2843 - accuracy: 0.8804 - val_loss: 0.2785 - val_accuracy: 0.8879\n",
      "Epoch 16/20\n",
      "228/228 [==============================] - 525s 2s/step - loss: 0.2839 - accuracy: 0.8865 - val_loss: 0.2869 - val_accuracy: 0.8879\n",
      "Epoch 17/20\n",
      "228/228 [==============================] - 533s 2s/step - loss: 0.2670 - accuracy: 0.8891 - val_loss: 0.2559 - val_accuracy: 0.9016\n",
      "Epoch 18/20\n",
      "228/228 [==============================] - 533s 2s/step - loss: 0.2662 - accuracy: 0.8895 - val_loss: 0.2827 - val_accuracy: 0.8857\n",
      "Epoch 19/20\n",
      "228/228 [==============================] - 535s 2s/step - loss: 0.2655 - accuracy: 0.8914 - val_loss: 0.2701 - val_accuracy: 0.9016\n",
      "Epoch 20/20\n",
      "228/228 [==============================] - 519s 2s/step - loss: 0.2565 - accuracy: 0.8947 - val_loss: 0.2644 - val_accuracy: 0.8961\n"
     ]
    }
   ],
   "source": [
    "model.compile(\n",
    "    optimizer= tf.keras.optimizers.Adam(\n",
    "        learning_rate=INIT_LR, \n",
    "        decay=INIT_LR / EPOCHS),\n",
    "    loss=keras.losses.categorical_crossentropy,\n",
    "    metrics=[\"accuracy\"]\n",
    ")\n",
    "\n",
    "H = model.fit(\n",
    "    train_set1, \n",
    "    epochs=20, \n",
    "    validation_data=val_set1\n",
    ")"
   ]
  },
  {
   "cell_type": "code",
   "execution_count": 2,
   "metadata": {},
   "outputs": [],
   "source": [
    "# import os.path\n",
    "model.save(\"model.h5\")"
   ]
  },
  {
   "cell_type": "code",
   "execution_count": 3,
   "metadata": {},
   "outputs": [],
   "source": [
    "from tensorflow import keras\n",
    "model = keras.models.load_model('model.h5')"
   ]
  },
  {
   "cell_type": "code",
   "execution_count": 6,
   "metadata": {},
   "outputs": [
    {
     "name": "stdout",
     "output_type": "stream",
     "text": [
      "57/57 [==============================] - 118s 2s/step - loss: 0.2644 - accuracy: 0.8961\n"
     ]
    },
    {
     "data": {
      "text/plain": [
       "[0.2643783688545227, 0.8960967659950256]"
      ]
     },
     "execution_count": 6,
     "metadata": {},
     "output_type": "execute_result"
    }
   ],
   "source": [
    "model.evaluate(val_set1)"
   ]
  },
  {
   "cell_type": "code",
   "execution_count": null,
   "metadata": {},
   "outputs": [
    {
     "data": {
      "image/png": "[encoded data removed]",
      "text/plain": [
       "<Figure size 432x288 with 1 Axes>"
      ]
     },
     "metadata": {
      "needs_background": "light"
     },
     "output_type": "display_data"
    },
    {
     "data": {
      "image/png": "[encoded data removed]",
      "text/plain": [
       "<Figure size 432x288 with 1 Axes>"
      ]
     },
     "metadata": {
      "needs_background": "light"
     },
     "output_type": "display_data"
    }
   ],
   "source": [
    "#Graphing our training and validation\n",
    "\n",
    "acc = H.history['accuracy']\n",
    "val_acc = H.history['val_accuracy']\n",
    "loss = H.history['loss']\n",
    "val_loss = H.history['val_loss']\n",
    "epochs = range(len(acc))\n",
    "plt.plot(epochs, acc, 'r', label='Training acc')\n",
    "plt.plot(epochs, val_acc, 'b', label='Validation acc')\n",
    "plt.title('Training and validation accuracy')\n",
    "plt.ylabel('accuracy') \n",
    "plt.xlabel('epoch')\n",
    "plt.legend()\n",
    "plt.figure()\n",
    "plt.plot(epochs, loss, 'r', label='Training loss')\n",
    "plt.plot(epochs, val_loss, 'b', label='Validation loss')\n",
    "plt.title('Training and validation loss')\n",
    "plt.ylabel('loss') \n",
    "plt.xlabel('epoch')\n",
    "plt.legend()\n",
    "plt.show()"
   ]
  },
  {
   "cell_type": "code",
   "execution_count": 8,
   "metadata": {},
   "outputs": [
    {
     "name": "stdout",
     "output_type": "stream",
     "text": [
      "Found 1011 images belonging to 2 classes.\n"
     ]
    }
   ],
   "source": [
    "test_path = \"test_dataset\"\n",
    "\n",
    "test_datagen = ImageDataGenerator(\n",
    "      rescale = 1./255)\n",
    "test_data = test_datagen.flow_from_directory(\n",
    "\t  test_path,\n",
    "\t  target_size=IMG_SIZE,\n",
    "        shuffle=False,\n",
    "        seed=9,\n",
    "        class_mode = \"categorical\") \n",
    "        \n",
    "# model.evaluate(test_data)"
   ]
  },
  {
   "cell_type": "code",
   "execution_count": 18,
   "metadata": {},
   "outputs": [
    {
     "name": "stdout",
     "output_type": "stream",
     "text": [
      "rounded test labels [[1. 0.]\n",
      " [1. 0.]\n",
      " [1. 0.]\n",
      " ...\n",
      " [0. 1.]\n",
      " [0. 1.]\n",
      " [0. 1.]]\n"
     ]
    }
   ],
   "source": [
    "preds = np.round(model.predict(test_data),0)\n",
    "print(\"rounded test labels\", preds)"
   ]
  },
  {
   "cell_type": "code",
   "execution_count": 42,
   "metadata": {},
   "outputs": [
    {
     "data": {
      "text/plain": [
       "{'btm': 0, 'top': 1}"
      ]
     },
     "execution_count": 42,
     "metadata": {},
     "output_type": "execute_result"
    }
   ],
   "source": [
    "# get the class labels for the training data, in the original order \n",
    "train_labels = train_set1.classes \n",
    " \n",
    "# convert the training labels to categorical vectors \n",
    "train_labels = to_categorical(train_labels, num_classes=2)    \n",
    "\n",
    "# get the class labels for the training data, in the original order \n",
    "test_labels = test_data.classes \n",
    " \n",
    "# convert the training labels to categorical vectors \n",
    "test_labels = to_categorical(test_labels, num_classes=2)\n",
    "\n",
    "test_data.class_indices"
   ]
  },
  {
   "cell_type": "code",
   "execution_count": 93,
   "metadata": {},
   "outputs": [
    {
     "name": "stdout",
     "output_type": "stream",
     "text": [
      "              precision    recall  f1-score   support\n",
      "\n",
      "         btm       0.93      0.87      0.90       507\n",
      "         top       0.88      0.93      0.90       504\n",
      "\n",
      "   micro avg       0.90      0.90      0.90      1011\n",
      "   macro avg       0.90      0.90      0.90      1011\n",
      "weighted avg       0.90      0.90      0.90      1011\n",
      " samples avg       0.90      0.90      0.90      1011\n",
      "\n"
     ]
    }
   ],
   "source": [
    "classificationlabels = ['btm','top']\n",
    "classification_metrics = metrics.classification_report(test_labels, preds, target_names=classificationlabels)\n",
    "print(classification_metrics)"
   ]
  },
  {
   "cell_type": "code",
   "execution_count": 95,
   "metadata": {},
   "outputs": [
    {
     "name": "stdout",
     "output_type": "stream",
     "text": [
      "Confusion matrix, without normalization\n"
     ]
    },
    {
     "data": {
      "image/png": "[encoded data removed]",
      "text/plain": [
       "<Figure size 432x288 with 2 Axes>"
      ]
     },
     "metadata": {
      "needs_background": "light"
     },
     "output_type": "display_data"
    }
   ],
   "source": [
    "from sklearn.metrics import plot_confusion_matrix\n",
    "from sklearn.metrics import confusion_matrix\n",
    "\n",
    "categorical_test_labels = pd.DataFrame(test_labels).idxmax(axis=1)\n",
    "categorical_preds = pd.DataFrame(preds).idxmax(axis=1)\n",
    "confusion_matrix = confusion_matrix(categorical_test_labels, categorical_preds)\n",
    "\n",
    "#To get better visual of the confusion matrix:\n",
    "def plot_confusion_matrix(cm, classes,\n",
    "   normalize=False,\n",
    "   title='Confusion matrix',\n",
    "   cmap=plt.cm.Blues):\n",
    " \n",
    "#Add Normalization Option\n",
    "\n",
    "   if normalize:\n",
    "     cm = cm.astype('float') / cm.sum(axis=1)[:, np.newaxis]\n",
    "     print('Normalized confusion matrix')\n",
    "   else:\n",
    "     print('Confusion matrix, without normalization')\n",
    " \n",
    "# print(cm)\n",
    " \n",
    "   plt.imshow(cm, interpolation='nearest', cmap=cmap)\n",
    "   plt.title(title)\n",
    "   plt.colorbar()\n",
    "   tick_marks = np.arange(len(classes))\n",
    "   plt.xticks(tick_marks, classes, rotation=45)\n",
    "   plt.yticks(tick_marks, classes)\n",
    " \n",
    "   fmt = '.2f' if normalize else 'd'\n",
    "   thresh = cm.max() / 2.\n",
    "   for i, j in itertools.product(range(cm.shape[0]), range(cm.shape[1])):\n",
    "      plt.text(j, i, format(cm[i, j], fmt), horizontalalignment='center', color='white' if cm[i, j] > thresh else 'black')\n",
    " \n",
    "   plt.tight_layout()\n",
    "   plt.ylabel('True label')\n",
    "   plt.xlabel('Predicted label') \n",
    "\n",
    "plot_confusion_matrix(confusion_matrix, ['top','btm'])"
   ]
  }
 ],
 "metadata": {
  "interpreter": {
   "hash": "aecd030d4c8316a52bf122072e28f84bcc79844c2684e041fef2e3f1d9f59078"
  },
  "kernelspec": {
   "display_name": "Python 3.10.3 64-bit",
   "language": "python",
   "name": "python3"
  },
  "language_info": {
   "codemirror_mode": {
    "name": "ipython",
    "version": 3
   },
   "file_extension": ".py",
   "mimetype": "text/x-python",
   "name": "python",
   "nbconvert_exporter": "python",
   "pygments_lexer": "ipython3",
   "version": "3.10.0"
  },
  "orig_nbformat": 4
 },
 "nbformat": 4,
 "nbformat_minor": 2
}
